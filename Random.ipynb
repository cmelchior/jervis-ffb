{
 "cells": [
  {
   "cell_type": "code",
   "execution_count": 2,
   "metadata": {
    "collapsed": true,
    "ExecuteTime": {
     "end_time": "2024-01-07T13:26:29.707173Z",
     "start_time": "2024-01-07T13:26:27.537941Z"
    }
   },
   "outputs": [
    {
     "name": "stdout",
     "output_type": "stream",
     "text": [
      "2087\n"
     ]
    }
   ],
   "source": [
    "import java.time.Duration\n",
    "import java.time.Instant\n",
    "import java.time.temporal.Temporal\n",
    "import kotlin.random.Random\n",
    "\n",
    "val start = Instant.now()\n",
    "repeat(Int.MAX_VALUE) {\n",
    "    Random.nextInt()\n",
    "}\n",
    "val end = Instant.now()\n",
    "println(Duration.between(start, end).toMillis())"
   ]
  },
  {
   "cell_type": "markdown",
   "source": [],
   "metadata": {
    "collapsed": false
   }
  },
  {
   "cell_type": "markdown",
   "source": [],
   "metadata": {
    "collapsed": false
   }
  },
  {
   "cell_type": "code",
   "execution_count": 3,
   "outputs": [
    {
     "name": "stdout",
     "output_type": "stream",
     "text": [
      "185940\n"
     ]
    }
   ],
   "source": [
    "import java.security.SecureRandom\n",
    "\n",
    "val start = Instant.now()\n",
    "val random = SecureRandom()\n",
    "repeat(Int.MAX_VALUE) {\n",
    "    random.nextInt()\n",
    "}\n",
    "val end = Instant.now()\n",
    "println(Duration.between(start, end).toMillis())"
   ],
   "metadata": {
    "collapsed": false,
    "ExecuteTime": {
     "end_time": "2024-01-07T13:30:54.853591Z",
     "start_time": "2024-01-07T13:27:48.782145Z"
    }
   }
  }
 ],
 "metadata": {
  "kernelspec": {
   "display_name": "Kotlin",
   "language": "kotlin",
   "name": "kotlin"
  },
  "language_info": {
   "name": "kotlin",
   "version": "1.9.0",
   "mimetype": "text/x-kotlin",
   "file_extension": ".kt",
   "pygments_lexer": "kotlin",
   "codemirror_mode": "text/x-kotlin",
   "nbconvert_exporter": ""
  }
 },
 "nbformat": 4,
 "nbformat_minor": 0
}
