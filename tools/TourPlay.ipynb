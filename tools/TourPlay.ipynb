{
 "cells": [
  {
   "metadata": {
    "collapsed": true,
    "ExecuteTime": {
     "end_time": "2025-08-19T07:53:18.875835Z",
     "start_time": "2025-08-19T07:53:18.874444Z"
    }
   },
   "cell_type": "markdown",
   "source": "This Notebook is for exploring the TourPlay REST API and convert its JSON results to type safe Kotlin wrappers."
  },
  {
   "metadata": {},
   "cell_type": "code",
   "source": "%use ktor-client",
   "outputs": [],
   "execution_count": null
  },
  {
   "metadata": {},
   "cell_type": "code",
   "source": [
    "import io.ktor.http.ContentDisposition.Companion.File\n",
    "import kotlin.io.path.Path\n",
    "\n",
    "// Ktor equivalent of the provided cURL request\n",
    "// val rosterId = 44442\n",
    "//val rosterId = 130606\n",
    "val rosterId = 131784\n",
    "val response = http.get(\"https://tourplay.net/api/rosters/$rosterId\") {\n",
    "    with(headers) {\n",
    "        append(\"Accept\", \"application/json, text/plain, */*\")\n",
    "        append(\"Referer\", \"https://tourplay.net/en/blood-bowl/roster/$rosterId\")\n",
    "        append(\n",
    "            \"User-Agent\",\n",
    "            \"Mozilla/5.0 (Macintosh; Intel Mac OS X 10_15_7) AppleWebKit/537.36 (KHTML, like Gecko) Chrome/135.0.0.0 Safari/537.36\"\n",
    "        )\n",
    "    }\n",
    "}\n",
    "//\n",
    "java.io.File(\"tourplay-roster-$rosterId.json\").writeText(response.bodyAsText())\n",
    "val result = response.deserializeJson(\"TourPlayRoster\")"
   ],
   "outputs": [],
   "execution_count": null
  },
  {
   "metadata": {},
   "cell_type": "code",
   "source": "result",
   "outputs": [],
   "execution_count": null
  },
  {
   "metadata": {},
   "cell_type": "code",
   "source": "response.deserializeJson(\"TourPlayRoster\").getCode()",
   "outputs": [],
   "execution_count": null
  },
  {
   "metadata": {},
   "cell_type": "code",
   "source": [
    "// Skills are represented as flags. So we need to find all the categories to map them correctly. So far:\n",
    "// Agility: 1\n",
    "// General: 2\n",
    "// Mutation: 4\n",
    "// Passing: 8\n",
    "// Strength: 16\n"
   ],
   "outputs": [],
   "execution_count": null
  },
  {
   "metadata": {},
   "cell_type": "code",
   "source": "",
   "outputs": [],
   "execution_count": null
  }
 ],
 "metadata": {
  "kernelspec": {
   "display_name": "Kotlin",
   "language": "kotlin",
   "name": "kotlin"
  },
  "language_info": {
   "name": "kotlin",
   "version": "2.2.20-Beta2",
   "mimetype": "text/x-kotlin",
   "file_extension": ".kt",
   "pygments_lexer": "kotlin",
   "codemirror_mode": "text/x-kotlin",
   "nbconvert_exporter": ""
  }
 },
 "nbformat": 4,
 "nbformat_minor": 0
}
