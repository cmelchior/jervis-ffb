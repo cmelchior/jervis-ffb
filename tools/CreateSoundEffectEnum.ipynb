{
 "cells": [
  {
   "metadata": {},
   "cell_type": "markdown",
   "source": [
    "# Convert FUMBBL sound definitions to the Jervis SoundEffect enum\n",
    "\n",
    "This is done, so we can track the lenght of side-effects.\n",
    "\n",
    "See client.ini ini the FFB project: https://github.com/christerk/ffb/blob/6af830c90df6a7c02b231c69dd9b7d1300e856af/ffb-client/src/main/resources/client.ini#L96"
   ]
  },
  {
   "metadata": {},
   "cell_type": "code",
   "source": [
    "val iniData = \"\"\"\n",
    "    <insert FUMBBL sound definitions here>\n",
    "\"\"\".trimIndent()\n",
    "\n",
    "data class Sound(val file: String, var length: Int)\n",
    "val sounds = linkedMapOf<String, Sound>()\n",
    "\n",
    "// Construct the enum\n",
    "iniData.lines().forEach { line ->\n",
    "    val (key, value) = line.split(\"=\")\n",
    "    val soundName = key.split(\".\")[1]\n",
    "    // This assumes that \".file\" is always before \".length\"\n",
    "    if (!sounds.containsKey(soundName)) {\n",
    "        sounds[soundName] = Sound(value, -1)\n",
    "    } else {\n",
    "        sounds[soundName]!!.length = value.toInt()\n",
    "    }\n",
    "}\n",
    "\n",
    "// Customize the sound definitions from FUMBBL\n",
    "sounds[\"error\"] = sounds[\"bounce\"]!! // Reuse bounce for \"error\" (for now)\n",
    "\n",
    "\n",
    "// Print enum\n",
    "val enumDefinition = buildString {\n",
    "    appendLine(\"enum class SoundEffect(val fileName: String, val lengthMs: Int) {\")\n",
    "    sounds.entries.forEach { (name: String, sound: Sound) ->\n",
    "        appendLine(\"    ${name.uppercase()}(\\\"${sound.file}\\\", ${sound.length}),\")\n",
    "    }\n",
    "    appendLine(\"}\")\n",
    "}\n",
    "\n",
    "enumDefinition"
   ],
   "outputs": [],
   "execution_count": null
  }
 ],
 "metadata": {
  "kernelspec": {
   "display_name": "Kotlin",
   "language": "kotlin",
   "name": "kotlin"
  },
  "language_info": {
   "name": "kotlin",
   "version": "1.9.23",
   "mimetype": "text/x-kotlin",
   "file_extension": ".kt",
   "pygments_lexer": "kotlin",
   "codemirror_mode": "text/x-kotlin",
   "nbconvert_exporter": ""
  }
 },
 "nbformat": 4,
 "nbformat_minor": 0
}
