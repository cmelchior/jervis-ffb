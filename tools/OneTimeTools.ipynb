{
 "cells": [
  {
   "metadata": {},
   "cell_type": "markdown",
   "source": [
    "# Onetime Tools\n",
    "This notebooks contains helper scripts that only needs to be run once and the result should be copied into the project somewhere."
   ]
  },
  {
   "metadata": {},
   "cell_type": "markdown",
   "source": [
    "### Fumbbl Enum Serializers\n",
    "\n",
    "Since WasmJs doesn't support reflection, we need a way to generate enum serializers that can manually map back and forth between the enum and their serialized value."
   ]
  },
  {
   "metadata": {
    "ExecuteTime": {
     "end_time": "2024-08-22T15:01:44.670576Z",
     "start_time": "2024-08-22T15:01:44.383883Z"
    }
   },
   "cell_type": "code",
   "source": [
    "USE {\n",
    "    dependencies {\n",
    "        implementation(\"org.reflections:reflections:0.10.2\")\n",
    "    }\n",
    "}"
   ],
   "outputs": [],
   "execution_count": 1
  },
  {
   "metadata": {
    "ExecuteTime": {
     "end_time": "2024-08-23T05:42:05.712262Z",
     "start_time": "2024-08-23T05:42:05.452213Z"
    }
   },
   "cell_type": "code",
   "source": [
    "import org.reflections.Reflections\n",
    "import java.io.File\n",
    "\n",
    "val path = \"../modules/fumbbl-net/src/commonMain/kotlin/dk/ilios/jervis/fumbbl/model\"\n",
    "val reflections = Reflections(\"dk.ilios.jervis.fumbbl.model\")\n",
    "return reflections.getSubTypesOf(FumbblEnum::class.java).map { it.kotlin }.toList()\n",
    "\n",
    "\n",
    "\n",
    "\n",
    "File(path).walkTopDown().filter {\n",
    "    if (it.isFile) {\n",
    "        val content = it.readText()\n",
    "        (\n",
    "                content.contains(\"import dk.ilios.jervis.fumbbl.net.serialization.FumbblEnum\") &&\n",
    "                        content.contains(\" : FumbblEnum {\")\n",
    "                )\n",
    "    } else {\n",
    "        false\n",
    "    }\n",
    "}.toList()"
   ],
   "outputs": [
    {
     "ename": "org.jetbrains.kotlinx.jupyter.exceptions.ReplCompilerException",
     "evalue": "Line_2.jupyter.kts (6:1 - 7) 'return' is not allowed here\nLine_2.jupyter.kts (6:20 - 33) Not enough information to infer type variable T\nLine_2.jupyter.kts (6:34 - 44) Unresolved reference: FumbblEnum\nLine_2.jupyter.kts (6:67 - 73) Unresolved reference: kotlin",
     "output_type": "error",
     "traceback": [
      "org.jetbrains.kotlinx.jupyter.exceptions.ReplCompilerException: Line_2.jupyter.kts (6:1 - 7) 'return' is not allowed here",
      "Line_2.jupyter.kts (6:20 - 33) Not enough information to infer type variable T",
      "Line_2.jupyter.kts (6:34 - 44) Unresolved reference: FumbblEnum",
      "Line_2.jupyter.kts (6:67 - 73) Unresolved reference: kotlin",
      "\tat org.jetbrains.kotlinx.jupyter.repl.impl.JupyterCompilerImpl.compileSync(JupyterCompilerImpl.kt:201)",
      "\tat org.jetbrains.kotlinx.jupyter.repl.impl.InternalEvaluatorImpl.eval(InternalEvaluatorImpl.kt:126)",
      "\tat org.jetbrains.kotlinx.jupyter.repl.impl.CellExecutorImpl$execute$1$result$1.invoke(CellExecutorImpl.kt:80)",
      "\tat org.jetbrains.kotlinx.jupyter.repl.impl.CellExecutorImpl$execute$1$result$1.invoke(CellExecutorImpl.kt:78)",
      "\tat org.jetbrains.kotlinx.jupyter.repl.impl.ReplForJupyterImpl.withHost(ReplForJupyterImpl.kt:738)",
      "\tat org.jetbrains.kotlinx.jupyter.repl.impl.CellExecutorImpl.execute-L4Nmkdk(CellExecutorImpl.kt:78)",
      "\tat org.jetbrains.kotlinx.jupyter.repl.execution.CellExecutor$DefaultImpls.execute-L4Nmkdk$default(CellExecutor.kt:13)",
      "\tat org.jetbrains.kotlinx.jupyter.repl.impl.ReplForJupyterImpl.evaluateUserCode-wNURfNM(ReplForJupyterImpl.kt:561)",
      "\tat org.jetbrains.kotlinx.jupyter.repl.impl.ReplForJupyterImpl.access$evaluateUserCode-wNURfNM(ReplForJupyterImpl.kt:139)",
      "\tat org.jetbrains.kotlinx.jupyter.repl.impl.ReplForJupyterImpl$evalEx$1.invoke(ReplForJupyterImpl.kt:418)",
      "\tat org.jetbrains.kotlinx.jupyter.repl.impl.ReplForJupyterImpl$evalEx$1.invoke(ReplForJupyterImpl.kt:415)",
      "\tat org.jetbrains.kotlinx.jupyter.repl.impl.ReplForJupyterImpl.withEvalContext(ReplForJupyterImpl.kt:396)",
      "\tat org.jetbrains.kotlinx.jupyter.repl.impl.ReplForJupyterImpl.evalEx(ReplForJupyterImpl.kt:415)",
      "\tat org.jetbrains.kotlinx.jupyter.messaging.IdeCompatibleMessageRequestProcessor$processExecuteRequest$1$response$1$1.invoke(IdeCompatibleMessageRequestProcessor.kt:136)",
      "\tat org.jetbrains.kotlinx.jupyter.messaging.IdeCompatibleMessageRequestProcessor$processExecuteRequest$1$response$1$1.invoke(IdeCompatibleMessageRequestProcessor.kt:135)",
      "\tat org.jetbrains.kotlinx.jupyter.execution.JupyterExecutorImpl$Task.execute(JupyterExecutorImpl.kt:42)",
      "\tat org.jetbrains.kotlinx.jupyter.execution.JupyterExecutorImpl$executorThread$1.invoke(JupyterExecutorImpl.kt:82)",
      "\tat org.jetbrains.kotlinx.jupyter.execution.JupyterExecutorImpl$executorThread$1.invoke(JupyterExecutorImpl.kt:80)",
      "\tat kotlin.concurrent.ThreadsKt$thread$thread$1.run(Thread.kt:30)",
      ""
     ]
    }
   ],
   "execution_count": 1
  }
 ],
 "metadata": {
  "kernelspec": {
   "display_name": "Kotlin",
   "language": "kotlin",
   "name": "kotlin"
  },
  "language_info": {
   "name": "kotlin",
   "version": "1.9.23",
   "mimetype": "text/x-kotlin",
   "file_extension": ".kt",
   "pygments_lexer": "kotlin",
   "codemirror_mode": "text/x-kotlin",
   "nbconvert_exporter": ""
  },
  "ktnbPluginMetadata": {
   "projectDependencies": true
  }
 },
 "nbformat": 4,
 "nbformat_minor": 0
}
