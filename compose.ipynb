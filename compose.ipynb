{
 "cells": [
  {
   "cell_type": "code",
   "execution_count": 1,
   "metadata": {
    "ExecuteTime": {
     "end_time": "2023-09-07T06:12:13.408442Z",
     "start_time": "2023-09-07T06:10:25.149772Z"
    }
   },
   "outputs": [
    {
     "name": "stderr",
     "output_type": "stream",
     "text": [
      "The problem is found in one of the loaded libraries: check library imports, dependencies and repositories\n",
      "Error compiling code:\n",
      "@file:Repository(\"https://repo.maven.apache.org/maven2/\")\n",
      "@file:DependsOn(\"org.jetbrains.compose.desktop:desktop-jvm-macos-arm64:1.5.0\")\n",
      "\n",
      "\n",
      "Errors:\n",
      "Failed to resolve org.jetbrains.compose.desktop:desktop-jvm-macos-arm64:1.5.0:\n",
      "File 'org.jetbrains.compose.desktop:desktop-jvm-macos-arm64:1.5.0' not found\n",
      "ArtifactResolutionException: The following artifacts could not be resolved: org.jetbrains.compose.desktop:desktop-jvm-macos-arm64:jar:1.5.0, androidx.compose.foundation:foundation:jar:1.5.0, androidx.compose.animation:animation:jar:1.5.0, androidx.compose.foundation:foundation-layout:jar:1.5.0, androidx.compose.ui:ui-text:jar:1.5.0, androidx.compose.ui:ui-util:jar:1.5.0, androidx.compose.material:material:jar:1.5.0, androidx.compose.animation:animation-core:jar:1.5.0, androidx.compose.material:material-icons-core:jar:1.5.0, androidx.compose.material:material-ripple:jar:1.5.0, androidx.compose.runtime:runtime:jar:1.5.0, androidx.compose.ui:ui:jar:1.5.0, androidx.compose.runtime:runtime-saveable:jar:1.5.0, androidx.compose.ui:ui-geometry:jar:1.5.0, androidx.compose.ui:ui-graphics:jar:1.5.0, androidx.compose.ui:ui-unit:jar:1.5.0, androidx.compose.ui:ui-tooling-preview:jar:1.5.0: Could not find artifact org.jetbrains.compose.desktop:desktop-jvm-macos-arm64:jar:1.5.0 in https___repo.maven.apache.org_maven2_ (https://repo.maven.apache.org/maven2/)\n",
      "\n",
      "org.jetbrains.kotlinx.jupyter.exceptions.ReplLibraryException: The problem is found in one of the loaded libraries: check library imports, dependencies and repositories\n",
      "\tat org.jetbrains.kotlinx.jupyter.exceptions.ReplLibraryExceptionKt.rethrowAsLibraryException(ReplLibraryException.kt:32)\n",
      "\tat org.jetbrains.kotlinx.jupyter.repl.impl.CellExecutorImpl$ExecutionContext.doAddLibraries(CellExecutorImpl.kt:147)\n",
      "\tat org.jetbrains.kotlinx.jupyter.repl.impl.CellExecutorImpl$ExecutionContext.addLibraries(CellExecutorImpl.kt:182)\n",
      "\tat org.jetbrains.kotlinx.jupyter.api.KotlinKernelHost$DefaultImpls.addLibrary(KotlinKernelHost.kt:42)\n",
      "\tat org.jetbrains.kotlinx.jupyter.repl.impl.CellExecutorImpl$ExecutionContext.addLibrary(CellExecutorImpl.kt:126)\n",
      "\tat jupyter.kotlin.CellExtensionsKt$USE$1.invoke(cellExtensions.kt:18)\n",
      "\tat jupyter.kotlin.CellExtensionsKt$USE$1.invoke(cellExtensions.kt:18)\n",
      "\tat org.jetbrains.kotlinx.jupyter.repl.impl.CellExecutorImpl$ExecutionContext.execute(CellExecutorImpl.kt:242)\n",
      "\tat org.jetbrains.kotlinx.jupyter.repl.impl.CellExecutorImpl$ExecutionContext.runChild(CellExecutorImpl.kt:140)\n",
      "\tat org.jetbrains.kotlinx.jupyter.repl.impl.CellExecutorImpl$ExecutionContext.processExecutionQueue(CellExecutorImpl.kt:237)\n",
      "\tat org.jetbrains.kotlinx.jupyter.repl.impl.CellExecutorImpl.execute(CellExecutorImpl.kt:116)\n",
      "\tat org.jetbrains.kotlinx.jupyter.repl.CellExecutor$DefaultImpls.execute$default(CellExecutor.kt:15)\n",
      "\tat org.jetbrains.kotlinx.jupyter.ReplForJupyterImpl$evalEx$1.invoke(repl.kt:479)\n",
      "\tat org.jetbrains.kotlinx.jupyter.ReplForJupyterImpl$evalEx$1.invoke(repl.kt:470)\n",
      "\tat org.jetbrains.kotlinx.jupyter.ReplForJupyterImpl.withEvalContext(repl.kt:433)\n",
      "\tat org.jetbrains.kotlinx.jupyter.ReplForJupyterImpl.evalEx(repl.kt:470)\n",
      "\tat org.jetbrains.kotlinx.jupyter.messaging.ProtocolKt$shellMessagesHandler$2$res$1.invoke(protocol.kt:318)\n",
      "\tat org.jetbrains.kotlinx.jupyter.messaging.ProtocolKt$shellMessagesHandler$2$res$1.invoke(protocol.kt:312)\n",
      "\tat org.jetbrains.kotlinx.jupyter.JupyterExecutorImpl$runExecution$execThread$1.invoke(execution.kt:37)\n",
      "\tat org.jetbrains.kotlinx.jupyter.JupyterExecutorImpl$runExecution$execThread$1.invoke(execution.kt:32)\n",
      "\tat kotlin.concurrent.ThreadsKt$thread$thread$1.run(Thread.kt:30)\n",
      "Caused by: org.jetbrains.kotlinx.jupyter.exceptions.ReplCompilerException: Failed to resolve org.jetbrains.compose.desktop:desktop-jvm-macos-arm64:1.5.0:\n",
      "File 'org.jetbrains.compose.desktop:desktop-jvm-macos-arm64:1.5.0' not found\n",
      "ArtifactResolutionException: The following artifacts could not be resolved: org.jetbrains.compose.desktop:desktop-jvm-macos-arm64:jar:1.5.0, androidx.compose.foundation:foundation:jar:1.5.0, androidx.compose.animation:animation:jar:1.5.0, androidx.compose.foundation:foundation-layout:jar:1.5.0, androidx.compose.ui:ui-text:jar:1.5.0, androidx.compose.ui:ui-util:jar:1.5.0, androidx.compose.material:material:jar:1.5.0, androidx.compose.animation:animation-core:jar:1.5.0, androidx.compose.material:material-icons-core:jar:1.5.0, androidx.compose.material:material-ripple:jar:1.5.0, androidx.compose.runtime:runtime:jar:1.5.0, androidx.compose.ui:ui:jar:1.5.0, androidx.compose.runtime:runtime-saveable:jar:1.5.0, androidx.compose.ui:ui-geometry:jar:1.5.0, androidx.compose.ui:ui-graphics:jar:1.5.0, androidx.compose.ui:ui-unit:jar:1.5.0, androidx.compose.ui:ui-tooling-preview:jar:1.5.0: Could not find artifact org.jetbrains.compose.desktop:desktop-jvm-macos-arm64:jar:1.5.0 in https___repo.maven.apache.org_maven2_ (https://repo.maven.apache.org/maven2/)\n",
      "\tat org.jetbrains.kotlinx.jupyter.repl.impl.JupyterCompilerImpl.compileSync(JupyterCompilerImpl.kt:174)\n",
      "\tat org.jetbrains.kotlinx.jupyter.repl.impl.InternalEvaluatorImpl.eval(InternalEvaluatorImpl.kt:99)\n",
      "\tat org.jetbrains.kotlinx.jupyter.repl.impl.CellExecutorImpl$execute$1$result$1.invoke(CellExecutorImpl.kt:75)\n",
      "\tat org.jetbrains.kotlinx.jupyter.repl.impl.CellExecutorImpl$execute$1$result$1.invoke(CellExecutorImpl.kt:73)\n",
      "\tat org.jetbrains.kotlinx.jupyter.ReplForJupyterImpl.withHost(repl.kt:666)\n",
      "\tat org.jetbrains.kotlinx.jupyter.repl.impl.CellExecutorImpl.execute(CellExecutorImpl.kt:73)\n",
      "\tat org.jetbrains.kotlinx.jupyter.repl.CellExecutor$DefaultImpls.execute$default(CellExecutor.kt:15)\n",
      "\tat org.jetbrains.kotlinx.jupyter.repl.impl.CellExecutorImpl$ExecutionContext.execute(CellExecutorImpl.kt:220)\n",
      "\tat org.jetbrains.kotlinx.jupyter.api.libraries.CodeExecutionCallback.invoke(CodeExecutionCallback.kt:8)\n",
      "\tat org.jetbrains.kotlinx.jupyter.api.libraries.CodeExecutionCallback.invoke(CodeExecutionCallback.kt:6)\n",
      "\tat org.jetbrains.kotlinx.jupyter.repl.impl.CellExecutorImpl$ExecutionContext.execute(CellExecutorImpl.kt:242)\n",
      "\tat org.jetbrains.kotlinx.jupyter.repl.impl.CellExecutorImpl$ExecutionContext.runChild(CellExecutorImpl.kt:140)\n",
      "\tat org.jetbrains.kotlinx.jupyter.repl.impl.CellExecutorImpl$ExecutionContext.runChild(CellExecutorImpl.kt:136)\n",
      "\tat org.jetbrains.kotlinx.jupyter.repl.impl.CellExecutorImpl$ExecutionContext.access$runChild(CellExecutorImpl.kt:126)\n",
      "\tat org.jetbrains.kotlinx.jupyter.repl.impl.CellExecutorImpl$ExecutionContext$doAddLibraries$1.invoke(CellExecutorImpl.kt:148)\n",
      "\tat org.jetbrains.kotlinx.jupyter.repl.impl.CellExecutorImpl$ExecutionContext$doAddLibraries$1.invoke(CellExecutorImpl.kt:147)\n",
      "\tat org.jetbrains.kotlinx.jupyter.exceptions.ReplLibraryExceptionKt.rethrowAsLibraryException(ReplLibraryException.kt:30)\n",
      "\t... 20 more\n",
      "\n"
     ]
    }
   ],
   "source": [
    "USE {\n",
    "  repositories {\n",
    "      mavenCentral()\n",
    "  }\n",
    "  dependencies {\n",
    "    implementation(\"org.jetbrains.compose.desktop:desktop-jvm-macos-arm64:1.5.0\")\n",
    "  }\n",
    "}"
   ]
  }
 ],
 "metadata": {
  "kernelspec": {
   "display_name": "Kotlin",
   "language": "kotlin",
   "name": "kotlin"
  },
  "language_info": {
   "codemirror_mode": "text/x-kotlin",
   "file_extension": ".kt",
   "mimetype": "text/x-kotlin",
   "name": "kotlin",
   "nbconvert_exporter": "",
   "pygments_lexer": "kotlin",
   "version": "1.8.20"
  }
 },
 "nbformat": 4,
 "nbformat_minor": 1
}
